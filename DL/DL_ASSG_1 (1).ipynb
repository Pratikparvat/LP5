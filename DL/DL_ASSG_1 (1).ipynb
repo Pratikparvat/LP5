{
  "nbformat": 4,
  "nbformat_minor": 0,
  "metadata": {
    "colab": {
      "provenance": []
    },
    "kernelspec": {
      "name": "python3",
      "display_name": "Python 3"
    },
    "language_info": {
      "name": "python"
    }
  },
  "cells": [
    {
      "cell_type": "code",
      "execution_count": 1,
      "metadata": {
        "id": "goARc6fRvGiW"
      },
      "outputs": [],
      "source": [
        "import tensorflow as tf\n",
        "from tensorflow.keras.datasets import boston_housing\n",
        "from sklearn import preprocessing"
      ]
    },
    {
      "cell_type": "code",
      "source": [
        "(xtrain,ytrain),(xtest,ytest) = boston_housing.load_data()"
      ],
      "metadata": {
        "id": "qQLi0ndov3W7",
        "colab": {
          "base_uri": "https://localhost:8080/"
        },
        "outputId": "e5d0e474-9f50-4e63-811b-905fa55b6065"
      },
      "execution_count": 2,
      "outputs": [
        {
          "output_type": "stream",
          "name": "stdout",
          "text": [
            "Downloading data from https://storage.googleapis.com/tensorflow/tf-keras-datasets/boston_housing.npz\n",
            "57026/57026 [==============================] - 0s 1us/step\n"
          ]
        }
      ]
    },
    {
      "cell_type": "code",
      "source": [
        "print(\"train shape :\",xtrain.shape)\n",
        "print(\"Test shape :\",xtest.shape)\n",
        "print(\"Actual Train Output\",ytrain.shape)\n",
        "print(\"Actual Test Output\",ytest.shape)\n"
      ],
      "metadata": {
        "colab": {
          "base_uri": "https://localhost:8080/"
        },
        "id": "nAPCxCXQwXTw",
        "outputId": "4678ff34-7a2e-453d-c443-59f06c523c20"
      },
      "execution_count": 3,
      "outputs": [
        {
          "output_type": "stream",
          "name": "stdout",
          "text": [
            "train shape : (404, 13)\n",
            "Test shape : (102, 13)\n",
            "Actual Train Output (404,)\n",
            "Actual Test Output (102,)\n"
          ]
        }
      ]
    },
    {
      "cell_type": "code",
      "source": [
        "xtrain"
      ],
      "metadata": {
        "colab": {
          "base_uri": "https://localhost:8080/"
        },
        "id": "hLHv9T6CAAim",
        "outputId": "9b990280-1bf1-4aad-e204-fb197e8d7d1a"
      },
      "execution_count": 4,
      "outputs": [
        {
          "output_type": "execute_result",
          "data": {
            "text/plain": [
              "array([[1.23247e+00, 0.00000e+00, 8.14000e+00, ..., 2.10000e+01,\n",
              "        3.96900e+02, 1.87200e+01],\n",
              "       [2.17700e-02, 8.25000e+01, 2.03000e+00, ..., 1.47000e+01,\n",
              "        3.95380e+02, 3.11000e+00],\n",
              "       [4.89822e+00, 0.00000e+00, 1.81000e+01, ..., 2.02000e+01,\n",
              "        3.75520e+02, 3.26000e+00],\n",
              "       ...,\n",
              "       [3.46600e-02, 3.50000e+01, 6.06000e+00, ..., 1.69000e+01,\n",
              "        3.62250e+02, 7.83000e+00],\n",
              "       [2.14918e+00, 0.00000e+00, 1.95800e+01, ..., 1.47000e+01,\n",
              "        2.61950e+02, 1.57900e+01],\n",
              "       [1.43900e-02, 6.00000e+01, 2.93000e+00, ..., 1.56000e+01,\n",
              "        3.76700e+02, 4.38000e+00]])"
            ]
          },
          "metadata": {},
          "execution_count": 4
        }
      ]
    },
    {
      "cell_type": "code",
      "source": [
        "xtrain[0]"
      ],
      "metadata": {
        "colab": {
          "base_uri": "https://localhost:8080/"
        },
        "id": "QUtkhc3JxT_M",
        "outputId": "cfe0450b-82bf-47eb-973b-6a8644f9b556"
      },
      "execution_count": 5,
      "outputs": [
        {
          "output_type": "execute_result",
          "data": {
            "text/plain": [
              "array([  1.23247,   0.     ,   8.14   ,   0.     ,   0.538  ,   6.142  ,\n",
              "        91.7    ,   3.9769 ,   4.     , 307.     ,  21.     , 396.9    ,\n",
              "        18.72   ])"
            ]
          },
          "metadata": {},
          "execution_count": 5
        }
      ]
    },
    {
      "cell_type": "code",
      "source": [
        "xtest[0]"
      ],
      "metadata": {
        "colab": {
          "base_uri": "https://localhost:8080/"
        },
        "id": "RrFn2vUuwSoV",
        "outputId": "4f13715a-6e15-4fa1-d871-2dcbec95d7f6"
      },
      "execution_count": 6,
      "outputs": [
        {
          "output_type": "execute_result",
          "data": {
            "text/plain": [
              "array([ 18.0846,   0.    ,  18.1   ,   0.    ,   0.679 ,   6.434 ,\n",
              "       100.    ,   1.8347,  24.    , 666.    ,  20.2   ,  27.25  ,\n",
              "        29.05  ])"
            ]
          },
          "metadata": {},
          "execution_count": 6
        }
      ]
    },
    {
      "cell_type": "code",
      "source": [
        "ytrain[0]"
      ],
      "metadata": {
        "colab": {
          "base_uri": "https://localhost:8080/"
        },
        "id": "9h8JIgIUxeaa",
        "outputId": "734deb6e-cc66-4eae-c20b-6925b5f63262"
      },
      "execution_count": 7,
      "outputs": [
        {
          "output_type": "execute_result",
          "data": {
            "text/plain": [
              "15.2"
            ]
          },
          "metadata": {},
          "execution_count": 7
        }
      ]
    },
    {
      "cell_type": "code",
      "source": [
        "train_x=preprocessing.normalize(xtrain)\n",
        "test_x=preprocessing.normalize(xtest)"
      ],
      "metadata": {
        "id": "voBQHkyHyGqW"
      },
      "execution_count": 8,
      "outputs": []
    },
    {
      "cell_type": "code",
      "source": [
        "xtrain[0]"
      ],
      "metadata": {
        "colab": {
          "base_uri": "https://localhost:8080/"
        },
        "id": "LFahLkcTyYik",
        "outputId": "286f8a6f-fe72-45be-a052-b6f8fb83c90e"
      },
      "execution_count": 9,
      "outputs": [
        {
          "output_type": "execute_result",
          "data": {
            "text/plain": [
              "array([  1.23247,   0.     ,   8.14   ,   0.     ,   0.538  ,   6.142  ,\n",
              "        91.7    ,   3.9769 ,   4.     , 307.     ,  21.     , 396.9    ,\n",
              "        18.72   ])"
            ]
          },
          "metadata": {},
          "execution_count": 9
        }
      ]
    },
    {
      "cell_type": "code",
      "source": [
        "ytrain[0]"
      ],
      "metadata": {
        "colab": {
          "base_uri": "https://localhost:8080/"
        },
        "id": "k2lYINxyyd_g",
        "outputId": "a343d0d2-dd19-48ef-fcf3-7b23f823c52d"
      },
      "execution_count": 10,
      "outputs": [
        {
          "output_type": "execute_result",
          "data": {
            "text/plain": [
              "15.2"
            ]
          },
          "metadata": {},
          "execution_count": 10
        }
      ]
    },
    {
      "cell_type": "code",
      "source": [
        "from tensorflow.keras.models import Sequential\n",
        "from tensorflow.keras.layers import *\n",
        "\n",
        "model = Sequential()\n",
        "\n",
        "model.add(Dense(128,activation='relu',input_shape=(train_x[0].shape)))\n",
        "model.add(Dense(64,activation='relu'))\n",
        "model.add(Dense(32,activation='relu'))\n",
        "model.add(Dense(1))\n",
        "\n",
        "model.compile(optimizer='rmsprop',loss='mse',metrics=['mae'])\n",
        "\n"
      ],
      "metadata": {
        "id": "UQ1psx6EylPu"
      },
      "execution_count": 11,
      "outputs": []
    },
    {
      "cell_type": "code",
      "source": [
        "import numpy as np\n",
        "k=4\n",
        "num_val_samples= len(train_x)\n",
        "num_epochs = 100\n",
        "all_scores = []"
      ],
      "metadata": {
        "id": "ZDpn2YmK1ZDm"
      },
      "execution_count": 12,
      "outputs": []
    },
    {
      "cell_type": "code",
      "source": [
        "\n",
        "history=model.fit(x=xtrain,y=ytrain,epochs= num_epochs,batch_size=1,verbose=1,validation_data=(xtest,ytest))"
      ],
      "metadata": {
        "colab": {
          "base_uri": "https://localhost:8080/"
        },
        "id": "_Dgpz-Th2Tps",
        "outputId": "fd3d4c6b-a99d-44a5-b0ae-996dd5880291"
      },
      "execution_count": 14,
      "outputs": [
        {
          "output_type": "stream",
          "name": "stdout",
          "text": [
            "Epoch 1/100\n",
            "404/404 [==============================] - 2s 3ms/step - loss: 120.4945 - mae: 8.0097 - val_loss: 73.5054 - val_mae: 6.0550\n",
            "Epoch 2/100\n",
            "404/404 [==============================] - 1s 3ms/step - loss: 75.5584 - mae: 6.2146 - val_loss: 75.7541 - val_mae: 7.0054\n",
            "Epoch 3/100\n",
            "404/404 [==============================] - 1s 3ms/step - loss: 66.3447 - mae: 5.8298 - val_loss: 57.0554 - val_mae: 5.7737\n",
            "Epoch 4/100\n",
            "404/404 [==============================] - 1s 2ms/step - loss: 58.7898 - mae: 5.3148 - val_loss: 77.0208 - val_mae: 6.2206\n",
            "Epoch 5/100\n",
            "404/404 [==============================] - 1s 2ms/step - loss: 57.2946 - mae: 5.3584 - val_loss: 49.0255 - val_mae: 5.0748\n",
            "Epoch 6/100\n",
            "404/404 [==============================] - 1s 2ms/step - loss: 53.6996 - mae: 5.1105 - val_loss: 50.2401 - val_mae: 5.1434\n",
            "Epoch 7/100\n",
            "404/404 [==============================] - 1s 2ms/step - loss: 51.0719 - mae: 4.8556 - val_loss: 51.5291 - val_mae: 5.2674\n",
            "Epoch 8/100\n",
            "404/404 [==============================] - 1s 2ms/step - loss: 51.9421 - mae: 4.9307 - val_loss: 51.1066 - val_mae: 5.0651\n",
            "Epoch 9/100\n",
            "404/404 [==============================] - 1s 2ms/step - loss: 48.8728 - mae: 4.7789 - val_loss: 44.9297 - val_mae: 4.6106\n",
            "Epoch 10/100\n",
            "404/404 [==============================] - 1s 2ms/step - loss: 47.0999 - mae: 4.7615 - val_loss: 51.3780 - val_mae: 4.9995\n",
            "Epoch 11/100\n",
            "404/404 [==============================] - 1s 2ms/step - loss: 46.5039 - mae: 4.7689 - val_loss: 39.0575 - val_mae: 4.7405\n",
            "Epoch 12/100\n",
            "404/404 [==============================] - 1s 2ms/step - loss: 41.1575 - mae: 4.3717 - val_loss: 39.2757 - val_mae: 4.5856\n",
            "Epoch 13/100\n",
            "404/404 [==============================] - 1s 2ms/step - loss: 37.7678 - mae: 4.3190 - val_loss: 34.3591 - val_mae: 4.0927\n",
            "Epoch 14/100\n",
            "404/404 [==============================] - 1s 2ms/step - loss: 38.0786 - mae: 4.3597 - val_loss: 36.8300 - val_mae: 4.8231\n",
            "Epoch 15/100\n",
            "404/404 [==============================] - 1s 2ms/step - loss: 32.6989 - mae: 3.9712 - val_loss: 43.1286 - val_mae: 4.5533\n",
            "Epoch 16/100\n",
            "404/404 [==============================] - 1s 3ms/step - loss: 32.6331 - mae: 4.1864 - val_loss: 55.1207 - val_mae: 5.4661\n",
            "Epoch 17/100\n",
            "404/404 [==============================] - 1s 3ms/step - loss: 32.3356 - mae: 4.1683 - val_loss: 37.5853 - val_mae: 4.3600\n",
            "Epoch 18/100\n",
            "404/404 [==============================] - 1s 2ms/step - loss: 32.8989 - mae: 4.1201 - val_loss: 32.5762 - val_mae: 4.0525\n",
            "Epoch 19/100\n",
            "404/404 [==============================] - 1s 2ms/step - loss: 29.4461 - mae: 3.7775 - val_loss: 39.5574 - val_mae: 4.3461\n",
            "Epoch 20/100\n",
            "404/404 [==============================] - 1s 2ms/step - loss: 29.4199 - mae: 3.8378 - val_loss: 49.2532 - val_mae: 4.8657\n",
            "Epoch 21/100\n",
            "404/404 [==============================] - 1s 2ms/step - loss: 26.9067 - mae: 3.6800 - val_loss: 34.7408 - val_mae: 4.2344\n",
            "Epoch 22/100\n",
            "404/404 [==============================] - 1s 2ms/step - loss: 28.5908 - mae: 3.7625 - val_loss: 48.5016 - val_mae: 5.0092\n",
            "Epoch 23/100\n",
            "404/404 [==============================] - 1s 2ms/step - loss: 27.3408 - mae: 3.6813 - val_loss: 30.1119 - val_mae: 4.0895\n",
            "Epoch 24/100\n",
            "404/404 [==============================] - 1s 2ms/step - loss: 27.2060 - mae: 3.6413 - val_loss: 26.8220 - val_mae: 3.7133\n",
            "Epoch 25/100\n",
            "404/404 [==============================] - 1s 2ms/step - loss: 26.2856 - mae: 3.7394 - val_loss: 29.3205 - val_mae: 3.8905\n",
            "Epoch 26/100\n",
            "404/404 [==============================] - 1s 3ms/step - loss: 24.2196 - mae: 3.5635 - val_loss: 50.2751 - val_mae: 5.1936\n",
            "Epoch 27/100\n",
            "404/404 [==============================] - 1s 2ms/step - loss: 25.6961 - mae: 3.5420 - val_loss: 29.8386 - val_mae: 4.1097\n",
            "Epoch 28/100\n",
            "404/404 [==============================] - 1s 2ms/step - loss: 24.7879 - mae: 3.5594 - val_loss: 29.7542 - val_mae: 3.8759\n",
            "Epoch 29/100\n",
            "404/404 [==============================] - 1s 3ms/step - loss: 22.7299 - mae: 3.4689 - val_loss: 25.6693 - val_mae: 3.6357\n",
            "Epoch 30/100\n",
            "404/404 [==============================] - 1s 4ms/step - loss: 26.4683 - mae: 3.5257 - val_loss: 51.1118 - val_mae: 5.5425\n",
            "Epoch 31/100\n",
            "404/404 [==============================] - 1s 2ms/step - loss: 24.3919 - mae: 3.4927 - val_loss: 36.6369 - val_mae: 4.4562\n",
            "Epoch 32/100\n",
            "404/404 [==============================] - 1s 2ms/step - loss: 23.6727 - mae: 3.4292 - val_loss: 37.8313 - val_mae: 4.2252\n",
            "Epoch 33/100\n",
            "404/404 [==============================] - 1s 2ms/step - loss: 22.1160 - mae: 3.3620 - val_loss: 37.3739 - val_mae: 4.1502\n",
            "Epoch 34/100\n",
            "404/404 [==============================] - 1s 2ms/step - loss: 22.3952 - mae: 3.3746 - val_loss: 33.2445 - val_mae: 3.9910\n",
            "Epoch 35/100\n",
            "404/404 [==============================] - 1s 2ms/step - loss: 22.2412 - mae: 3.3763 - val_loss: 33.6382 - val_mae: 4.1599\n",
            "Epoch 36/100\n",
            "404/404 [==============================] - 1s 2ms/step - loss: 23.9500 - mae: 3.4588 - val_loss: 42.6486 - val_mae: 4.5924\n",
            "Epoch 37/100\n",
            "404/404 [==============================] - 1s 2ms/step - loss: 24.3008 - mae: 3.5123 - val_loss: 44.1476 - val_mae: 5.3030\n",
            "Epoch 38/100\n",
            "404/404 [==============================] - 1s 2ms/step - loss: 21.0852 - mae: 3.2378 - val_loss: 27.8905 - val_mae: 3.8505\n",
            "Epoch 39/100\n",
            "404/404 [==============================] - 1s 2ms/step - loss: 22.8713 - mae: 3.3899 - val_loss: 42.3210 - val_mae: 4.9927\n",
            "Epoch 40/100\n",
            "404/404 [==============================] - 1s 2ms/step - loss: 20.8311 - mae: 3.2953 - val_loss: 49.0449 - val_mae: 4.7789\n",
            "Epoch 41/100\n",
            "404/404 [==============================] - 1s 3ms/step - loss: 22.7138 - mae: 3.3267 - val_loss: 28.8257 - val_mae: 3.7137\n",
            "Epoch 42/100\n",
            "404/404 [==============================] - 1s 4ms/step - loss: 20.4471 - mae: 3.1438 - val_loss: 28.5414 - val_mae: 3.7564\n",
            "Epoch 43/100\n",
            "404/404 [==============================] - 1s 3ms/step - loss: 22.2300 - mae: 3.3779 - val_loss: 28.1856 - val_mae: 3.7862\n",
            "Epoch 44/100\n",
            "404/404 [==============================] - 1s 2ms/step - loss: 22.3505 - mae: 3.2556 - val_loss: 32.2511 - val_mae: 4.0166\n",
            "Epoch 45/100\n",
            "404/404 [==============================] - 1s 2ms/step - loss: 21.5553 - mae: 3.3211 - val_loss: 32.0181 - val_mae: 3.8797\n",
            "Epoch 46/100\n",
            "404/404 [==============================] - 1s 2ms/step - loss: 21.9449 - mae: 3.3173 - val_loss: 28.0481 - val_mae: 3.7481\n",
            "Epoch 47/100\n",
            "404/404 [==============================] - 1s 2ms/step - loss: 20.7980 - mae: 3.3374 - val_loss: 32.4919 - val_mae: 4.0139\n",
            "Epoch 48/100\n",
            "404/404 [==============================] - 1s 3ms/step - loss: 21.9640 - mae: 3.3710 - val_loss: 37.3312 - val_mae: 4.3752\n",
            "Epoch 49/100\n",
            "404/404 [==============================] - 1s 2ms/step - loss: 21.6026 - mae: 3.2877 - val_loss: 32.2481 - val_mae: 4.0332\n",
            "Epoch 50/100\n",
            "404/404 [==============================] - 1s 3ms/step - loss: 22.5059 - mae: 3.2995 - val_loss: 31.1479 - val_mae: 3.8919\n",
            "Epoch 51/100\n",
            "404/404 [==============================] - 1s 2ms/step - loss: 21.8182 - mae: 3.1973 - val_loss: 33.5403 - val_mae: 4.2625\n",
            "Epoch 52/100\n",
            "404/404 [==============================] - 1s 2ms/step - loss: 20.5526 - mae: 3.2076 - val_loss: 24.7871 - val_mae: 3.5789\n",
            "Epoch 53/100\n",
            "404/404 [==============================] - 1s 3ms/step - loss: 21.0702 - mae: 3.2555 - val_loss: 27.1678 - val_mae: 3.7898\n",
            "Epoch 54/100\n",
            "404/404 [==============================] - 2s 4ms/step - loss: 19.1846 - mae: 3.2041 - val_loss: 39.0647 - val_mae: 4.5775\n",
            "Epoch 55/100\n",
            "404/404 [==============================] - 1s 3ms/step - loss: 21.7601 - mae: 3.1340 - val_loss: 29.6260 - val_mae: 3.8300\n",
            "Epoch 56/100\n",
            "404/404 [==============================] - 1s 2ms/step - loss: 20.2704 - mae: 3.2554 - val_loss: 31.4231 - val_mae: 3.9283\n",
            "Epoch 57/100\n",
            "404/404 [==============================] - 1s 2ms/step - loss: 21.7189 - mae: 3.2729 - val_loss: 31.7761 - val_mae: 3.9512\n",
            "Epoch 58/100\n",
            "404/404 [==============================] - 1s 2ms/step - loss: 18.8177 - mae: 3.2422 - val_loss: 34.1235 - val_mae: 4.2513\n",
            "Epoch 59/100\n",
            "404/404 [==============================] - 1s 2ms/step - loss: 19.6155 - mae: 3.1797 - val_loss: 27.9592 - val_mae: 3.9225\n",
            "Epoch 60/100\n",
            "404/404 [==============================] - 1s 2ms/step - loss: 18.4004 - mae: 3.0861 - val_loss: 24.9611 - val_mae: 3.5350\n",
            "Epoch 61/100\n",
            "404/404 [==============================] - 1s 2ms/step - loss: 21.3339 - mae: 3.2232 - val_loss: 29.9943 - val_mae: 3.9565\n",
            "Epoch 62/100\n",
            "404/404 [==============================] - 1s 2ms/step - loss: 19.9918 - mae: 3.1941 - val_loss: 28.2479 - val_mae: 3.5857\n",
            "Epoch 63/100\n",
            "404/404 [==============================] - 1s 2ms/step - loss: 19.4956 - mae: 3.0215 - val_loss: 33.2430 - val_mae: 4.5102\n",
            "Epoch 64/100\n",
            "404/404 [==============================] - 1s 2ms/step - loss: 19.9640 - mae: 3.1304 - val_loss: 35.4669 - val_mae: 4.0564\n",
            "Epoch 65/100\n",
            "404/404 [==============================] - 1s 2ms/step - loss: 19.2974 - mae: 2.9950 - val_loss: 41.5817 - val_mae: 5.3068\n",
            "Epoch 66/100\n",
            "404/404 [==============================] - 1s 3ms/step - loss: 19.5902 - mae: 3.1540 - val_loss: 47.1585 - val_mae: 5.2248\n",
            "Epoch 67/100\n",
            "404/404 [==============================] - 1s 3ms/step - loss: 19.0088 - mae: 3.0153 - val_loss: 27.5943 - val_mae: 3.5850\n",
            "Epoch 68/100\n",
            "404/404 [==============================] - 1s 3ms/step - loss: 19.1262 - mae: 3.0409 - val_loss: 26.3063 - val_mae: 3.5161\n",
            "Epoch 69/100\n",
            "404/404 [==============================] - 1s 2ms/step - loss: 19.9298 - mae: 3.0831 - val_loss: 62.9557 - val_mae: 6.2404\n",
            "Epoch 70/100\n",
            "404/404 [==============================] - 1s 2ms/step - loss: 15.9848 - mae: 2.9853 - val_loss: 26.7358 - val_mae: 3.5196\n",
            "Epoch 71/100\n",
            "404/404 [==============================] - 1s 2ms/step - loss: 18.7711 - mae: 3.0859 - val_loss: 22.5837 - val_mae: 3.3417\n",
            "Epoch 72/100\n",
            "404/404 [==============================] - 1s 2ms/step - loss: 18.8407 - mae: 3.0857 - val_loss: 28.8775 - val_mae: 3.7226\n",
            "Epoch 73/100\n",
            "404/404 [==============================] - 1s 2ms/step - loss: 18.6974 - mae: 3.0899 - val_loss: 26.5498 - val_mae: 3.5847\n",
            "Epoch 74/100\n",
            "404/404 [==============================] - 1s 2ms/step - loss: 18.2647 - mae: 2.9472 - val_loss: 25.1279 - val_mae: 3.5926\n",
            "Epoch 75/100\n",
            "404/404 [==============================] - 1s 2ms/step - loss: 18.7090 - mae: 3.0980 - val_loss: 27.5579 - val_mae: 3.6413\n",
            "Epoch 76/100\n",
            "404/404 [==============================] - 1s 2ms/step - loss: 18.3027 - mae: 3.0599 - val_loss: 24.7799 - val_mae: 3.6220\n",
            "Epoch 77/100\n",
            "404/404 [==============================] - 1s 2ms/step - loss: 20.8622 - mae: 3.0988 - val_loss: 25.2323 - val_mae: 3.6602\n",
            "Epoch 78/100\n",
            "404/404 [==============================] - 1s 2ms/step - loss: 20.2607 - mae: 3.1470 - val_loss: 25.1493 - val_mae: 3.5472\n",
            "Epoch 79/100\n",
            "404/404 [==============================] - 1s 2ms/step - loss: 18.8136 - mae: 3.0253 - val_loss: 30.5117 - val_mae: 3.8448\n",
            "Epoch 80/100\n",
            "404/404 [==============================] - 1s 4ms/step - loss: 19.9846 - mae: 3.1799 - val_loss: 30.0449 - val_mae: 3.9733\n",
            "Epoch 81/100\n",
            "404/404 [==============================] - 1s 4ms/step - loss: 19.3581 - mae: 3.0848 - val_loss: 28.0760 - val_mae: 3.5621\n",
            "Epoch 82/100\n",
            "404/404 [==============================] - 1s 2ms/step - loss: 17.8449 - mae: 3.0743 - val_loss: 30.4360 - val_mae: 3.7083\n",
            "Epoch 83/100\n",
            "404/404 [==============================] - 1s 2ms/step - loss: 19.6135 - mae: 3.0402 - val_loss: 34.4627 - val_mae: 4.1505\n",
            "Epoch 84/100\n",
            "404/404 [==============================] - 1s 2ms/step - loss: 17.7369 - mae: 2.9686 - val_loss: 26.3274 - val_mae: 3.6737\n",
            "Epoch 85/100\n",
            "404/404 [==============================] - 1s 2ms/step - loss: 19.3275 - mae: 3.0843 - val_loss: 34.7585 - val_mae: 4.2093\n",
            "Epoch 86/100\n",
            "404/404 [==============================] - 1s 3ms/step - loss: 18.4658 - mae: 3.0195 - val_loss: 28.6605 - val_mae: 3.5948\n",
            "Epoch 87/100\n",
            "404/404 [==============================] - 1s 2ms/step - loss: 16.7088 - mae: 2.8860 - val_loss: 27.0279 - val_mae: 3.5118\n",
            "Epoch 88/100\n",
            "404/404 [==============================] - 1s 2ms/step - loss: 17.0878 - mae: 2.9906 - val_loss: 27.9139 - val_mae: 3.5592\n",
            "Epoch 89/100\n",
            "404/404 [==============================] - 1s 2ms/step - loss: 17.4745 - mae: 2.9648 - val_loss: 31.3219 - val_mae: 3.7096\n",
            "Epoch 90/100\n",
            "404/404 [==============================] - 1s 2ms/step - loss: 19.8278 - mae: 3.0720 - val_loss: 31.4421 - val_mae: 3.8463\n",
            "Epoch 91/100\n",
            "404/404 [==============================] - 1s 2ms/step - loss: 17.9228 - mae: 3.0373 - val_loss: 25.9296 - val_mae: 3.5779\n",
            "Epoch 92/100\n",
            "404/404 [==============================] - 1s 3ms/step - loss: 18.0212 - mae: 2.9459 - val_loss: 29.4307 - val_mae: 3.8747\n",
            "Epoch 93/100\n",
            "404/404 [==============================] - 1s 3ms/step - loss: 14.8883 - mae: 2.8299 - val_loss: 26.9086 - val_mae: 3.7758\n",
            "Epoch 94/100\n",
            "404/404 [==============================] - 1s 4ms/step - loss: 18.2566 - mae: 2.9836 - val_loss: 29.7087 - val_mae: 3.7547\n",
            "Epoch 95/100\n",
            "404/404 [==============================] - 1s 2ms/step - loss: 17.0376 - mae: 2.9657 - val_loss: 26.3776 - val_mae: 3.4543\n",
            "Epoch 96/100\n",
            "404/404 [==============================] - 1s 2ms/step - loss: 17.5141 - mae: 2.8805 - val_loss: 26.2612 - val_mae: 3.6705\n",
            "Epoch 97/100\n",
            "404/404 [==============================] - 1s 3ms/step - loss: 18.8505 - mae: 3.0459 - val_loss: 25.5027 - val_mae: 3.4460\n",
            "Epoch 98/100\n",
            "404/404 [==============================] - 1s 2ms/step - loss: 17.8277 - mae: 2.9282 - val_loss: 33.3466 - val_mae: 4.3497\n",
            "Epoch 99/100\n",
            "404/404 [==============================] - 1s 2ms/step - loss: 18.7807 - mae: 3.0255 - val_loss: 33.3771 - val_mae: 4.5052\n",
            "Epoch 100/100\n",
            "404/404 [==============================] - 1s 2ms/step - loss: 18.0253 - mae: 2.9618 - val_loss: 33.1059 - val_mae: 4.1415\n"
          ]
        }
      ]
    },
    {
      "cell_type": "code",
      "source": [
        "## We will need to convert train and test data using pandas"
      ],
      "metadata": {
        "id": "jF8hrvc3Dp2n"
      },
      "execution_count": 15,
      "outputs": []
    },
    {
      "cell_type": "code",
      "source": [
        "test = [[0.02675675, 0.        , 0.02677953, 0.        , 0.0010046 ,\n",
        "        0.00951931, 0.14795322, 0.0027145 , 0.03550877, 0.98536841,\n",
        "        0.02988655, 0.04031725, 0.04298041]]\n",
        "print(\"Actual Output: \", ytrain[0])\n",
        "print(\"Predicted Output: \", model.predict(test))"
      ],
      "metadata": {
        "colab": {
          "base_uri": "https://localhost:8080/"
        },
        "id": "YzUzn1OwEK4w",
        "outputId": "4f47c2bc-2084-45ce-bb3a-8d359d57ae7d"
      },
      "execution_count": 17,
      "outputs": [
        {
          "output_type": "stream",
          "name": "stdout",
          "text": [
            "Actual Output:  15.2\n",
            "1/1 [==============================] - 0s 113ms/step\n",
            "Predicted Output:  [[1.7357788]]\n"
          ]
        }
      ]
    },
    {
      "cell_type": "code",
      "source": [],
      "metadata": {
        "id": "kwYrGPbMTTTv"
      },
      "execution_count": null,
      "outputs": []
    }
  ]
}